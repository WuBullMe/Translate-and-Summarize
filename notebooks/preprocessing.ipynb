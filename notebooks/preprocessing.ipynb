{
 "cells": [
  {
   "cell_type": "code",
   "execution_count": 13,
   "id": "25d47afb-c3ac-432e-95b1-73950a0496f4",
   "metadata": {},
   "outputs": [
    {
     "name": "stderr",
     "output_type": "stream",
     "text": [
      "[nltk_data] Downloading package punkt to /root/nltk_data...\n",
      "[nltk_data]   Package punkt is already up-to-date!\n"
     ]
    },
    {
     "data": {
      "text/plain": [
       "True"
      ]
     },
     "execution_count": 13,
     "metadata": {},
     "output_type": "execute_result"
    }
   ],
   "source": [
    "import pandas as pd\n",
    "import numpy as np\n",
    "import nltk\n",
    "\n",
    "from tqdm import tqdm\n",
    "\n",
    "nltk.download('punkt')"
   ]
  },
  {
   "cell_type": "code",
   "execution_count": 62,
   "id": "be018e94-0c41-4667-8ef3-9af04cb78a49",
   "metadata": {},
   "outputs": [],
   "source": [
    "df = pd.read_csv(\"../data/raw/data.txt\", sep='\\t', names=[\"en\", \"ru\"])"
   ]
  },
  {
   "cell_type": "code",
   "execution_count": 63,
   "id": "792b6bda-3dc0-48ef-b0c3-5b29801a66c9",
   "metadata": {},
   "outputs": [
    {
     "data": {
      "text/html": [
       "<div>\n",
       "<style scoped>\n",
       "    .dataframe tbody tr th:only-of-type {\n",
       "        vertical-align: middle;\n",
       "    }\n",
       "\n",
       "    .dataframe tbody tr th {\n",
       "        vertical-align: top;\n",
       "    }\n",
       "\n",
       "    .dataframe thead th {\n",
       "        text-align: right;\n",
       "    }\n",
       "</style>\n",
       "<table border=\"1\" class=\"dataframe\">\n",
       "  <thead>\n",
       "    <tr style=\"text-align: right;\">\n",
       "      <th></th>\n",
       "      <th>en</th>\n",
       "      <th>ru</th>\n",
       "    </tr>\n",
       "  </thead>\n",
       "  <tbody>\n",
       "    <tr>\n",
       "      <th>0</th>\n",
       "      <td>Cordelia Hotel is situated in Tbilisi, a 3-min...</td>\n",
       "      <td>Отель Cordelia расположен в Тбилиси, в 3 минут...</td>\n",
       "    </tr>\n",
       "    <tr>\n",
       "      <th>1</th>\n",
       "      <td>At Tupirmarka Lodge you will find a 24-hour fr...</td>\n",
       "      <td>В числе удобств лоджа Tupirmarka круглосуточна...</td>\n",
       "    </tr>\n",
       "    <tr>\n",
       "      <th>2</th>\n",
       "      <td>Featuring free WiFi in all areas, Naigao Xiaow...</td>\n",
       "      <td>Апартаменты Naigao Xiaowo расположены в городе...</td>\n",
       "    </tr>\n",
       "    <tr>\n",
       "      <th>3</th>\n",
       "      <td>Each has a TV and a private bathroom with shower.</td>\n",
       "      <td>В вашем распоряжении также телевизор и собстве...</td>\n",
       "    </tr>\n",
       "    <tr>\n",
       "      <th>4</th>\n",
       "      <td>Your room comes with air conditioning and sate...</td>\n",
       "      <td>Номер оснащен кондиционером и спутниковым теле...</td>\n",
       "    </tr>\n",
       "    <tr>\n",
       "      <th>...</th>\n",
       "      <td>...</td>\n",
       "      <td>...</td>\n",
       "    </tr>\n",
       "    <tr>\n",
       "      <th>49985</th>\n",
       "      <td>The spacious air-conditioned rooms open out to...</td>\n",
       "      <td>Просторные номера с кондиционером выходят на с...</td>\n",
       "    </tr>\n",
       "    <tr>\n",
       "      <th>49986</th>\n",
       "      <td>Minsk Ring road is a 5-minute drive from the p...</td>\n",
       "      <td>Минская кольцевая автомобильная дорога проходи...</td>\n",
       "    </tr>\n",
       "    <tr>\n",
       "      <th>49987</th>\n",
       "      <td>There is a private bathroom with a shower.</td>\n",
       "      <td>В собственной ванной комнате установлен душ.</td>\n",
       "    </tr>\n",
       "    <tr>\n",
       "      <th>49988</th>\n",
       "      <td>It is a 15-minute drive from Malacca Town Cent...</td>\n",
       "      <td>За 15 минут вы доедете до центра города Малакк...</td>\n",
       "    </tr>\n",
       "    <tr>\n",
       "      <th>49989</th>\n",
       "      <td>Each room at Apartments na Podgornoy is colour...</td>\n",
       "      <td>Все апартаменты « На Подгорной» красочно оформ...</td>\n",
       "    </tr>\n",
       "  </tbody>\n",
       "</table>\n",
       "<p>49990 rows × 2 columns</p>\n",
       "</div>"
      ],
      "text/plain": [
       "                                                      en  \\\n",
       "0      Cordelia Hotel is situated in Tbilisi, a 3-min...   \n",
       "1      At Tupirmarka Lodge you will find a 24-hour fr...   \n",
       "2      Featuring free WiFi in all areas, Naigao Xiaow...   \n",
       "3      Each has a TV and a private bathroom with shower.   \n",
       "4      Your room comes with air conditioning and sate...   \n",
       "...                                                  ...   \n",
       "49985  The spacious air-conditioned rooms open out to...   \n",
       "49986  Minsk Ring road is a 5-minute drive from the p...   \n",
       "49987         There is a private bathroom with a shower.   \n",
       "49988  It is a 15-minute drive from Malacca Town Cent...   \n",
       "49989  Each room at Apartments na Podgornoy is colour...   \n",
       "\n",
       "                                                      ru  \n",
       "0      Отель Cordelia расположен в Тбилиси, в 3 минут...  \n",
       "1      В числе удобств лоджа Tupirmarka круглосуточна...  \n",
       "2      Апартаменты Naigao Xiaowo расположены в городе...  \n",
       "3      В вашем распоряжении также телевизор и собстве...  \n",
       "4      Номер оснащен кондиционером и спутниковым теле...  \n",
       "...                                                  ...  \n",
       "49985  Просторные номера с кондиционером выходят на с...  \n",
       "49986  Минская кольцевая автомобильная дорога проходи...  \n",
       "49987       В собственной ванной комнате установлен душ.  \n",
       "49988  За 15 минут вы доедете до центра города Малакк...  \n",
       "49989  Все апартаменты « На Подгорной» красочно оформ...  \n",
       "\n",
       "[49990 rows x 2 columns]"
      ]
     },
     "execution_count": 63,
     "metadata": {},
     "output_type": "execute_result"
    }
   ],
   "source": [
    "df"
   ]
  },
  {
   "cell_type": "code",
   "execution_count": 64,
   "id": "a86f82b5-4c8f-4978-9b4d-ff033f169466",
   "metadata": {},
   "outputs": [],
   "source": [
    "signs = '.,?!:; '\n",
    "numbers = ''.join([str(i) for i in range(10)])\n",
    "RUSSIAN_LETTERS_AND_SIGNS = 'абвгдеёжзийклмнопрстуфхцчшщъыьэюя' + signs + numbers\n",
    "ENGLISH_LETTERS_AND_SIGNS = ''.join([chr(i) for i in range(ord('a'), ord('z') + 1)]) + signs + numbers"
   ]
  },
  {
   "cell_type": "code",
   "execution_count": 65,
   "id": "73a3b960-1983-4704-9db7-a1a2b3458e66",
   "metadata": {},
   "outputs": [
    {
     "name": "stderr",
     "output_type": "stream",
     "text": [
      "100%|██████████| 49990/49990 [00:11<00:00, 4269.74it/s]\n"
     ]
    }
   ],
   "source": [
    "columns = df.columns\n",
    "\n",
    "Data = []\n",
    "for i in tqdm(range(len(df))):\n",
    "    row = df.loc[i].values\n",
    "    if type(row[0]) is not str or type(row[1]) is not str:\n",
    "        continue\n",
    "    for it in range(0, 2):\n",
    "        row[it] = row[it].lower().strip()\n",
    "        row[it] = ''.join([\n",
    "            tt for tt in row[it] if tt in RUSSIAN_LETTERS_AND_SIGNS or tt in ENGLISH_LETTERS_AND_SIGNS\n",
    "        ])\n",
    "    row[0] = nltk.word_tokenize(row[0], language='english')\n",
    "    row[1] = nltk.word_tokenize(row[1], language='russian')\n",
    "    row[0] = ' '.join(row[0])\n",
    "    row[1] = ' '.join(row[1])\n",
    "    Data.append(row)\n",
    "df = pd.DataFrame(Data, columns=columns)"
   ]
  },
  {
   "cell_type": "code",
   "execution_count": 66,
   "id": "75b71cc8-c16d-4365-ae9b-6ca5285a0185",
   "metadata": {},
   "outputs": [
    {
     "data": {
      "text/html": [
       "<div>\n",
       "<style scoped>\n",
       "    .dataframe tbody tr th:only-of-type {\n",
       "        vertical-align: middle;\n",
       "    }\n",
       "\n",
       "    .dataframe tbody tr th {\n",
       "        vertical-align: top;\n",
       "    }\n",
       "\n",
       "    .dataframe thead th {\n",
       "        text-align: right;\n",
       "    }\n",
       "</style>\n",
       "<table border=\"1\" class=\"dataframe\">\n",
       "  <thead>\n",
       "    <tr style=\"text-align: right;\">\n",
       "      <th></th>\n",
       "      <th>en</th>\n",
       "      <th>ru</th>\n",
       "    </tr>\n",
       "  </thead>\n",
       "  <tbody>\n",
       "    <tr>\n",
       "      <th>0</th>\n",
       "      <td>cordelia hotel is situated in tbilisi , a 3min...</td>\n",
       "      <td>отель cordelia расположен в тбилиси , в 3 мину...</td>\n",
       "    </tr>\n",
       "    <tr>\n",
       "      <th>1</th>\n",
       "      <td>at tupirmarka lodge you will find a 24hour fro...</td>\n",
       "      <td>в числе удобств лоджа tupirmarka круглосуточна...</td>\n",
       "    </tr>\n",
       "    <tr>\n",
       "      <th>2</th>\n",
       "      <td>featuring free wifi in all areas , naigao xiao...</td>\n",
       "      <td>апартаменты naigao xiaowo расположены в городе...</td>\n",
       "    </tr>\n",
       "    <tr>\n",
       "      <th>3</th>\n",
       "      <td>each has a tv and a private bathroom with show...</td>\n",
       "      <td>в вашем распоряжении также телевизор и собстве...</td>\n",
       "    </tr>\n",
       "    <tr>\n",
       "      <th>4</th>\n",
       "      <td>your room comes with air conditioning and sate...</td>\n",
       "      <td>номер оснащен кондиционером и спутниковым теле...</td>\n",
       "    </tr>\n",
       "    <tr>\n",
       "      <th>...</th>\n",
       "      <td>...</td>\n",
       "      <td>...</td>\n",
       "    </tr>\n",
       "    <tr>\n",
       "      <th>49984</th>\n",
       "      <td>the spacious airconditioned rooms open out to ...</td>\n",
       "      <td>просторные номера с кондиционером выходят на с...</td>\n",
       "    </tr>\n",
       "    <tr>\n",
       "      <th>49985</th>\n",
       "      <td>minsk ring road is a 5minute drive from the pr...</td>\n",
       "      <td>минская кольцевая автомобильная дорога проходи...</td>\n",
       "    </tr>\n",
       "    <tr>\n",
       "      <th>49986</th>\n",
       "      <td>there is a private bathroom with a shower .</td>\n",
       "      <td>в собственной ванной комнате установлен душ .</td>\n",
       "    </tr>\n",
       "    <tr>\n",
       "      <th>49987</th>\n",
       "      <td>it is a 15minute drive from malacca town centr...</td>\n",
       "      <td>за 15 минут вы доедете до центра города малакк...</td>\n",
       "    </tr>\n",
       "    <tr>\n",
       "      <th>49988</th>\n",
       "      <td>each room at apartments na podgornoy is colour...</td>\n",
       "      <td>все апартаменты на подгорной красочно оформлен...</td>\n",
       "    </tr>\n",
       "  </tbody>\n",
       "</table>\n",
       "<p>49989 rows × 2 columns</p>\n",
       "</div>"
      ],
      "text/plain": [
       "                                                      en  \\\n",
       "0      cordelia hotel is situated in tbilisi , a 3min...   \n",
       "1      at tupirmarka lodge you will find a 24hour fro...   \n",
       "2      featuring free wifi in all areas , naigao xiao...   \n",
       "3      each has a tv and a private bathroom with show...   \n",
       "4      your room comes with air conditioning and sate...   \n",
       "...                                                  ...   \n",
       "49984  the spacious airconditioned rooms open out to ...   \n",
       "49985  minsk ring road is a 5minute drive from the pr...   \n",
       "49986        there is a private bathroom with a shower .   \n",
       "49987  it is a 15minute drive from malacca town centr...   \n",
       "49988  each room at apartments na podgornoy is colour...   \n",
       "\n",
       "                                                      ru  \n",
       "0      отель cordelia расположен в тбилиси , в 3 мину...  \n",
       "1      в числе удобств лоджа tupirmarka круглосуточна...  \n",
       "2      апартаменты naigao xiaowo расположены в городе...  \n",
       "3      в вашем распоряжении также телевизор и собстве...  \n",
       "4      номер оснащен кондиционером и спутниковым теле...  \n",
       "...                                                  ...  \n",
       "49984  просторные номера с кондиционером выходят на с...  \n",
       "49985  минская кольцевая автомобильная дорога проходи...  \n",
       "49986      в собственной ванной комнате установлен душ .  \n",
       "49987  за 15 минут вы доедете до центра города малакк...  \n",
       "49988  все апартаменты на подгорной красочно оформлен...  \n",
       "\n",
       "[49989 rows x 2 columns]"
      ]
     },
     "execution_count": 66,
     "metadata": {},
     "output_type": "execute_result"
    }
   ],
   "source": [
    "df"
   ]
  },
  {
   "cell_type": "code",
   "execution_count": 68,
   "id": "61b704b8-ad3e-4e8b-a52a-88e2a57d2571",
   "metadata": {},
   "outputs": [],
   "source": [
    "df.to_csv('../data/interim/preprocessed.tsv', sep='\\t')"
   ]
  }
 ],
 "metadata": {
  "kernelspec": {
   "display_name": "Python 3 (ipykernel)",
   "language": "python",
   "name": "python3"
  },
  "language_info": {
   "codemirror_mode": {
    "name": "ipython",
    "version": 3
   },
   "file_extension": ".py",
   "mimetype": "text/x-python",
   "name": "python",
   "nbconvert_exporter": "python",
   "pygments_lexer": "ipython3",
   "version": "3.9.16"
  }
 },
 "nbformat": 4,
 "nbformat_minor": 5
}
