{
 "cells": [
  {
   "cell_type": "code",
   "execution_count": 1,
   "id": "06b40ae0-2370-4bd1-bd34-416c83cedb45",
   "metadata": {},
   "outputs": [],
   "source": [
    "import pandas as pd\n",
    "\n",
    "import torch\n",
    "import torch.nn as nn\n",
    "from torch import optim\n",
    "import torch.nn.functional as F\n",
    "\n",
    "import matplotlib.pyplot as plt\n",
    "\n",
    "device = torch.device(\"cuda\" if torch.cuda.is_available() else \"cpu\")"
   ]
  },
  {
   "cell_type": "code",
   "execution_count": 2,
   "id": "4d0ca2e7-6b25-414d-9b1c-061817b40b24",
   "metadata": {},
   "outputs": [],
   "source": [
    "data = pd.read_csv(\"data/interim/preprocessed.tsv\", sep='\\t', index_col=0)"
   ]
  },
  {
   "cell_type": "code",
   "execution_count": 3,
   "id": "9a888e80-7cea-487e-a9ce-17cabde6dd3a",
   "metadata": {},
   "outputs": [
    {
     "data": {
      "text/html": [
       "<div>\n",
       "<style scoped>\n",
       "    .dataframe tbody tr th:only-of-type {\n",
       "        vertical-align: middle;\n",
       "    }\n",
       "\n",
       "    .dataframe tbody tr th {\n",
       "        vertical-align: top;\n",
       "    }\n",
       "\n",
       "    .dataframe thead th {\n",
       "        text-align: right;\n",
       "    }\n",
       "</style>\n",
       "<table border=\"1\" class=\"dataframe\">\n",
       "  <thead>\n",
       "    <tr style=\"text-align: right;\">\n",
       "      <th></th>\n",
       "      <th>en</th>\n",
       "      <th>ru</th>\n",
       "    </tr>\n",
       "  </thead>\n",
       "  <tbody>\n",
       "    <tr>\n",
       "      <th>0</th>\n",
       "      <td>cordelia hotel is situated in tbilisi , a 3min...</td>\n",
       "      <td>отель cordelia расположен в тбилиси , в 3 мину...</td>\n",
       "    </tr>\n",
       "    <tr>\n",
       "      <th>1</th>\n",
       "      <td>at tupirmarka lodge you will find a 24hour fro...</td>\n",
       "      <td>в числе удобств лоджа tupirmarka круглосуточна...</td>\n",
       "    </tr>\n",
       "    <tr>\n",
       "      <th>2</th>\n",
       "      <td>featuring free wifi in all areas , naigao xiao...</td>\n",
       "      <td>апартаменты naigao xiaowo расположены в городе...</td>\n",
       "    </tr>\n",
       "    <tr>\n",
       "      <th>3</th>\n",
       "      <td>each has a tv and a private bathroom with show...</td>\n",
       "      <td>в вашем распоряжении также телевизор и собстве...</td>\n",
       "    </tr>\n",
       "    <tr>\n",
       "      <th>4</th>\n",
       "      <td>your room comes with air conditioning and sate...</td>\n",
       "      <td>номер оснащен кондиционером и спутниковым теле...</td>\n",
       "    </tr>\n",
       "  </tbody>\n",
       "</table>\n",
       "</div>"
      ],
      "text/plain": [
       "                                                  en  \\\n",
       "0  cordelia hotel is situated in tbilisi , a 3min...   \n",
       "1  at tupirmarka lodge you will find a 24hour fro...   \n",
       "2  featuring free wifi in all areas , naigao xiao...   \n",
       "3  each has a tv and a private bathroom with show...   \n",
       "4  your room comes with air conditioning and sate...   \n",
       "\n",
       "                                                  ru  \n",
       "0  отель cordelia расположен в тбилиси , в 3 мину...  \n",
       "1  в числе удобств лоджа tupirmarka круглосуточна...  \n",
       "2  апартаменты naigao xiaowo расположены в городе...  \n",
       "3  в вашем распоряжении также телевизор и собстве...  \n",
       "4  номер оснащен кондиционером и спутниковым теле...  "
      ]
     },
     "execution_count": 3,
     "metadata": {},
     "output_type": "execute_result"
    }
   ],
   "source": [
    "data.head()"
   ]
  },
  {
   "cell_type": "markdown",
   "id": "a6e985c3-a879-4aba-a5d9-b78db66680b5",
   "metadata": {},
   "source": [
    "# Prepare Dataloader"
   ]
  },
  {
   "cell_type": "code",
   "execution_count": 4,
   "id": "d081d41b-9bc7-4255-8505-ecccfc76fdce",
   "metadata": {},
   "outputs": [],
   "source": [
    "from data.make_dataset import prepareData, get_dataloader, tensorFromSentence"
   ]
  },
  {
   "cell_type": "markdown",
   "id": "2f6fb72d-bdab-479a-9edf-c71e6787c3a4",
   "metadata": {},
   "source": [
    "# Define model"
   ]
  },
  {
   "cell_type": "code",
   "execution_count": 5,
   "id": "015d58b5-0e19-4f0d-ac54-21b9a24dc389",
   "metadata": {},
   "outputs": [],
   "source": [
    "from translate.model import Transformer, Encoder, Decoder"
   ]
  },
  {
   "cell_type": "markdown",
   "id": "74141f96-63d6-446f-92c3-072dd623e65c",
   "metadata": {},
   "source": [
    "# Train model"
   ]
  },
  {
   "cell_type": "code",
   "execution_count": 6,
   "id": "a44839f3-a9bd-4329-a0a1-d3fb6b858f4c",
   "metadata": {},
   "outputs": [],
   "source": [
    "from translate.train import train"
   ]
  },
  {
   "cell_type": "code",
   "execution_count": 7,
   "id": "3c4e5f30-6037-43b7-a087-67bddb9f576e",
   "metadata": {},
   "outputs": [
    {
     "name": "stdout",
     "output_type": "stream",
     "text": [
      "Counted words:\n",
      "en-vocab 29536\n",
      "ru-vocab 40720\n"
     ]
    }
   ],
   "source": [
    "epochs = 20\n",
    "embed_size = 256\n",
    "n_layer = 6\n",
    "n_head = 8\n",
    "hidden_size = 256\n",
    "batch_size = 32\n",
    "lr = 5e-5\n",
    "MAX_LENGTH = 32\n",
    "model_path = \"translate.pt\"\n",
    "start_epoch = 1\n",
    "\n",
    "vocab_en, vocab_ru, pairs = prepareData(data, MAX_LENGTH)\n",
    "train_dataloader, val_dataloader = get_dataloader(batch_size, vocab_en, vocab_ru, pairs, MAX_LENGTH, device=device)"
   ]
  },
  {
   "cell_type": "code",
   "execution_count": 8,
   "id": "de61357a-d381-4776-9f77-353336c5e8c7",
   "metadata": {},
   "outputs": [
    {
     "name": "stdout",
     "output_type": "stream",
     "text": [
      "42.668816 Million parameters\n"
     ]
    },
    {
     "name": "stderr",
     "output_type": "stream",
     "text": [
      "Epoch 1: train: 100%|██████████| 1312/1312 [03:10<00:00,  6.90it/s, loss=5.07]\n",
      "Epoch 1: val: 100%|██████████| 146/146 [00:04<00:00, 30.79it/s, loss=4.1] \n",
      "Epoch 2: train: 100%|██████████| 1312/1312 [03:09<00:00,  6.93it/s, loss=3.73]\n",
      "Epoch 2: val: 100%|██████████| 146/146 [00:04<00:00, 30.61it/s, loss=3.64]\n",
      "Epoch 3: train: 100%|██████████| 1312/1312 [03:08<00:00,  6.95it/s, loss=3.28]\n",
      "Epoch 3: val: 100%|██████████| 146/146 [00:04<00:00, 30.99it/s, loss=3.37]\n",
      "Epoch 4: train: 100%|██████████| 1312/1312 [03:09<00:00,  6.94it/s, loss=2.98]\n",
      "Epoch 4: val: 100%|██████████| 146/146 [00:04<00:00, 30.94it/s, loss=3.21]\n",
      "Epoch 5: train: 100%|██████████| 1312/1312 [03:09<00:00,  6.94it/s, loss=2.75]\n",
      "Epoch 5: val: 100%|██████████| 146/146 [00:04<00:00, 31.10it/s, loss=3.1] \n",
      "Epoch 6: train: 100%|██████████| 1312/1312 [03:09<00:00,  6.92it/s, loss=2.55]\n",
      "Epoch 6: val: 100%|██████████| 146/146 [00:04<00:00, 31.21it/s, loss=3.02]\n",
      "Epoch 7: train: 100%|██████████| 1312/1312 [03:09<00:00,  6.91it/s, loss=2.38]\n",
      "Epoch 7: val: 100%|██████████| 146/146 [00:04<00:00, 31.04it/s, loss=2.97]\n",
      "Epoch 8: train: 100%|██████████| 1312/1312 [03:09<00:00,  6.93it/s, loss=2.23]\n",
      "Epoch 8: val: 100%|██████████| 146/146 [00:04<00:00, 30.32it/s, loss=2.97]\n",
      "Epoch 9: train: 100%|██████████| 1312/1312 [03:09<00:00,  6.93it/s, loss=2.1]\n",
      "Epoch 9: val: 100%|██████████| 146/146 [00:04<00:00, 30.50it/s, loss=2.93]\n",
      "Epoch 10: train: 100%|██████████| 1312/1312 [03:08<00:00,  6.96it/s, loss=1.97]\n",
      "Epoch 10: val: 100%|██████████| 146/146 [00:04<00:00, 30.88it/s, loss=2.92]\n",
      "Epoch 11: train: 100%|██████████| 1312/1312 [03:09<00:00,  6.93it/s, loss=1.85]\n",
      "Epoch 11: val: 100%|██████████| 146/146 [00:04<00:00, 30.91it/s, loss=2.93]\n",
      "Epoch 12: train: 100%|██████████| 1312/1312 [03:08<00:00,  6.97it/s, loss=1.74]\n",
      "Epoch 12: val: 100%|██████████| 146/146 [00:04<00:00, 30.68it/s, loss=2.94]\n",
      "Epoch 13: train: 100%|██████████| 1312/1312 [03:09<00:00,  6.92it/s, loss=1.63]\n",
      "Epoch 13: val: 100%|██████████| 146/146 [00:04<00:00, 30.61it/s, loss=2.96]\n",
      "Epoch 14: train: 100%|██████████| 1312/1312 [03:09<00:00,  6.91it/s, loss=1.53]\n",
      "Epoch 14: val: 100%|██████████| 146/146 [00:04<00:00, 30.74it/s, loss=2.95]\n",
      "Epoch 15: train: 100%|██████████| 1312/1312 [03:09<00:00,  6.91it/s, loss=1.44]\n",
      "Epoch 15: val: 100%|██████████| 146/146 [00:04<00:00, 30.54it/s, loss=2.99]\n",
      "Epoch 16: train: 100%|██████████| 1312/1312 [03:09<00:00,  6.93it/s, loss=1.36]\n",
      "Epoch 16: val: 100%|██████████| 146/146 [00:04<00:00, 30.82it/s, loss=3.01]\n",
      "Epoch 17: train: 100%|██████████| 1312/1312 [03:10<00:00,  6.89it/s, loss=1.28]\n",
      "Epoch 17: val: 100%|██████████| 146/146 [00:04<00:00, 31.06it/s, loss=3]   \n",
      "Epoch 18: train: 100%|██████████| 1312/1312 [03:09<00:00,  6.94it/s, loss=1.21]\n",
      "Epoch 18: val: 100%|██████████| 146/146 [00:04<00:00, 30.32it/s, loss=3.06]\n",
      "Epoch 19: train: 100%|██████████| 1312/1312 [03:10<00:00,  6.90it/s, loss=1.15]\n",
      "Epoch 19: val: 100%|██████████| 146/146 [00:04<00:00, 30.82it/s, loss=3.06]\n",
      "Epoch 20: train: 100%|██████████| 1312/1312 [03:09<00:00,  6.93it/s, loss=1.09]\n",
      "Epoch 20: val: 100%|██████████| 146/146 [00:04<00:00, 30.49it/s, loss=3.07]\n"
     ]
    }
   ],
   "source": [
    "encoder = Encoder(vocab_en.n_words, n_layer, n_head, batch_size, embed_size, hidden_size, vocab_en, device=device, max_length=MAX_LENGTH)\n",
    "decoder = Decoder(n_layer, n_head, batch_size, embed_size, hidden_size, vocab_ru.n_words, vocab_ru, device=device, max_length=MAX_LENGTH)\n",
    "model = Transformer(encoder, decoder).to(device)\n",
    "\n",
    "if start_epoch != 1: # Continue the existing training\n",
    "    model = torch.load(model_path)\n",
    "\n",
    "print(sum(p.numel() for p in model.parameters())/1e6, 'Million parameters')\n",
    "\n",
    "optimizer = optim.Adam(model.parameters(), lr=lr)\n",
    "criterion = nn.CrossEntropyLoss(ignore_index=vocab_ru.word2index['<pad>'])\n",
    "\n",
    "loss_train, loss_val = train(\n",
    "    model, \n",
    "    train_dataloader, \n",
    "    val_dataloader, \n",
    "    optimizer=optimizer, \n",
    "    criterion=criterion, \n",
    "    start_epoch=start_epoch,\n",
    "    epochs=epochs, \n",
    "    lr=lr, \n",
    "    model_path=model_path\n",
    ")"
   ]
  },
  {
   "cell_type": "markdown",
   "id": "4d069efa-679f-4077-b1ac-c4a3d8e462bd",
   "metadata": {},
   "source": [
    "# Check in random sample from dataset"
   ]
  },
  {
   "cell_type": "code",
   "execution_count": 9,
   "id": "b4cc2d8b-fe89-4a11-9c70-84d9430b179c",
   "metadata": {},
   "outputs": [],
   "source": [
    "def evaluate(model, sentence, vocab_en, vocab_ru):\n",
    "    with torch.no_grad():\n",
    "        model.eval()\n",
    "        input_tensor = tensorFromSentence(vocab_en, sentence, device=device)\n",
    "        outputs = model.generate_beam(input_tensor, max_length=model.decoder.max_length)\n",
    "\n",
    "        ids = outputs.squeeze()\n",
    "        \n",
    "        words = []\n",
    "        for idx in ids:\n",
    "            if idx.item() == vocab_ru.word2index['<eos>']:\n",
    "                break\n",
    "            words.append(vocab_ru.index2word[idx.item()])\n",
    "    return words"
   ]
  },
  {
   "cell_type": "code",
   "execution_count": 10,
   "id": "d1387292-4832-45f8-8bd9-f7e8af84d8ec",
   "metadata": {},
   "outputs": [],
   "source": [
    "import random\n",
    "import string\n",
    "\n",
    "def evaluateRandomly(model, vocab_tox, vocab_detox, n=10):\n",
    "    for i in range(n):\n",
    "        pair = random.choice(pairs)\n",
    "        print('origin:     ', pair[0])\n",
    "        print('translated: ', pair[1])\n",
    "        output_words = evaluate(model, pair[0], vocab_tox, vocab_detox)\n",
    "        output_sentence = \"\".join([\" \"+i if not i.startswith(\"'\") and not i.startswith(\"n'\") and i not in string.punctuation else i for i in output_words]).strip()\n",
    "        print('predicted:  ', output_sentence)\n",
    "        print('')"
   ]
  },
  {
   "cell_type": "code",
   "execution_count": 11,
   "id": "60f2da7d-2e71-4acd-b4f4-1116896d43bf",
   "metadata": {},
   "outputs": [
    {
     "name": "stdout",
     "output_type": "stream",
     "text": [
      "origin:      novosibirsk opera and ballet theatre is 7 km from grand hotel , while novosibirsk state circus is 8 km away .\n",
      "translated:  отель грандотель находится в 7 км от новосибирского театра оперы и балета и в 8 км от новосибирского государственного цирка .\n",
      "predicted:   <sos> в 7 км от отеля типа постель и завтрак театр оперы и балета, а расстояние до театра оперы составляет 8 км.\n",
      "\n",
      "origin:      hotel terranova is located in lens zona piel area , mexicos leather capital .\n",
      "translated:  отель terranova находится в районе леона под названием зона пьель , который в мексике считается столицей кожаных изделий .\n",
      "predicted:   <sos> в отеле vienna для некурящих гостей отеля vienna, расположенном в семье районе авлабари, в отеле, в отеле, в отеле работает круглосуточная стойка доступности.\n",
      "\n",
      "origin:      the owner can provide fresh bread in the morning .\n",
      "translated:  по утрам владелец апартаментов может доставлять свежий хлеб .\n",
      "predicted:   <sos> в здании отеля подают блюда по меню, который включает в формате зале, так и ужин.\n",
      "\n",
      "origin:      it features a fully equipped unit with free wifi and mediterranean sea views .\n",
      "translated:  к услугам гостей полностью оборудованные апартаменты с бесплатным wifi и видом на средиземное море .\n",
      "predicted:   <sos> к услугам гостей полностью оборудованная кухня с бесплатным wifi и видом на море, а также бесплатный wifi и номерастудио с видом на море.\n",
      "\n",
      "origin:      free private parking is offered at the villa .\n",
      "translated:  гости могут пользоваться бесплатной частной парковкой на территории виллы .\n",
      "predicted:   <sos> на территории виллы обустроена бесплатная частная парковка. на территории обустроена бесплатная частная парковка.\n",
      "\n",
      "origin:      facilities include a guest kitchen and shared bathroom .\n",
      "translated:  гости могут пользоваться общей кухней и общей ванной комнатой .\n",
      "predicted:   <sos> располагают общей кухней, общей кухней и общей ванной комнатой.\n",
      "\n",
      "origin:      muir station shopping complex is within a 5minute drive .\n",
      "translated:  до торгового комплекса muir station можно доехать за 5 минут .\n",
      "predicted:   <sos> в 5 минутах езды от отеля находится станция метро santa inn suites находится в 5 минутах езды от железнодорожной станции метро palace.\n",
      "\n",
      "origin:      portugal dos pequenitos themed park is within a 10minute drive from residencial jantesta .\n",
      "translated:  парк аттракционов portugal dos pequenitos находится в 10 минутах езды от гостевого дома residencial jantesta .\n",
      "predicted:   <sos> в 10 минутах езды от отеля park park park в 10 минутах езды от мотеля для гольфа, в 10 минутах езды от отеля типа постель и парк для отпуска для\n",
      "\n",
      "origin:      the airconditioned rooms all provide a bathroom , a tv and a minibar .\n",
      "translated:  в числе удобств всех номеров отеля ванная комната , телевизор и минибар .\n",
      "predicted:   <sos> кондиционером, телевизором, кондиционером, минибаром и минибаром, а также ванная комната, минибаром и минибаром.\n",
      "\n",
      "origin:      all rooms are fitted with a flatscreen tv . some rooms have a seating area for your convenience .\n",
      "translated:  все номера оборудованы телевизором с плоским экраном , а в некоторых из них также обустроен гостиный уголок .\n",
      "predicted:   <sos> в некоторых номерах есть телевизор с плоским экраном, а в некоторых из них имеется гостиная зона.\n",
      "\n"
     ]
    }
   ],
   "source": [
    "load_model = torch.load(model_path)\n",
    "\n",
    "load_model.eval()\n",
    "evaluateRandomly(load_model, vocab_en, vocab_ru)"
   ]
  }
 ],
 "metadata": {
  "kernelspec": {
   "display_name": "Python 3 (ipykernel)",
   "language": "python",
   "name": "python3"
  },
  "language_info": {
   "codemirror_mode": {
    "name": "ipython",
    "version": 3
   },
   "file_extension": ".py",
   "mimetype": "text/x-python",
   "name": "python",
   "nbconvert_exporter": "python",
   "pygments_lexer": "ipython3",
   "version": "3.9.16"
  }
 },
 "nbformat": 4,
 "nbformat_minor": 5
}
